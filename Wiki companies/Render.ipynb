{
 "cells": [
  {
   "cell_type": "code",
   "execution_count": 3,
   "metadata": {},
   "outputs": [
    {
     "name": "stdout",
     "output_type": "stream",
     "text": [
      "{{Infobox company\n",
      "| name= ఎ.బి.జి షిప్‌యార్డ్| logo= Logo-ABG_Shipyard.jpg\n",
      "| industry = పరిశ్రమలు\n",
      "| hq_location = అహ్మదాబాద్\n",
      "| hq_location_country = భారతదేశం\n",
      "| type = ప్రజా\n",
      "| founded = 1985\n",
      "| key_people = రిషి అగర్వాల్ (ఛైర్మన్), రామ్ స్వరూప్ నక్రా (మేనేజింగ్ డైరెక్టర్), డిపి గుప్తా (వైస్ ప్రెసిడెంట్), సుబాస్ గంటాయత్ (వైస్ ప్రెసిడెంట్)\n",
      "| website =https://www.abgindia.com\n",
      "}}\n",
      "'''ఎ.బి.జి షిప్‌యార్డ్''' అనే పేరుగల సంస్థ 1985 లో భారతదేశంలో కంపెనీల చట్టం నిబంధనల ప్రకారం స్థాపించబడింది. <ref>{{Cite web|title=Company website|url=https://www.abgindia.com|access-date=2021-06-07}}</ref>ఇది ఒక ప్రజా రంగానికి చెందిన సంస్థ. ఈ సంస్థ రిజిస్ట్రార్ అఫ్ కంపెనీస్(ROC) అహ్మదాబాద్ వద్ద నమోదు చేయబడింది. ఈ సంస్థ ప్రధాన కార్యాలయం అహ్మదాబాద్ లో ఉంది. ఈ సంస్థ ముఖ్య కార్యకలాపాలు ఓడ నిర్మాణం రంగంలో కలవు. ఎ.బి.జి షిప్‌యార్డ్ సంస్థ ప్రస్తుతం చురుకుగా కార్యకలాపాలు సాగిస్తుంది. ఇది కంపెనీ షేర్ల ద్వారా పరిమితం చేయబడిన సంస్థ. ఈ సంస్థ అధీకృత వాటా మూలధనం (ఆర్థరైజ్డ్ కాపిటల్) రూ.170000007000, చెల్లించిన మూలధనం (పైడ్అప్ కాపిటల్) రూ.2015046660<ref>{{Cite web|title=Ministry of Corporate Affairs|url=https://www.mca.gov.in/content/mca/global/en/home.html|access-date=2021-06-07}}</ref>. \n",
      "    \n",
      "\n",
      "==చరిత్ర==\n",
      "\n",
      "ఎ.బి.జి షిప్‌యార్డ్ లిమిటెడ్ అనేది విభిన్న వ్యాపార ప్రయోజనాలతో కూడిన ఎ.బి.జి గ్రూప్ ఆఫ్ కంపెనీలలో ఒక భాగం. 1985లో స్థాపించబడిన దీని ప్రధాన కార్యాలయం ముంబైలో ఉంది. ఇది గుజరాత్లోని సూరత్, దహేజ్లలో నౌకా నిర్మాణ కార్యకలాపాలను కలిగి ఉంది. అక్టోబరు 2010లో వెస్ట్రన్ ఇండియా షిప్యార్డ్ లిమిటెడ్ను స్వాధీనం చేసుకున్న తరువాత, ఇది గోవాలో ఓడ మరమ్మతు యూనిట్ను నిర్వహిస్తోంది, ఇది భారతదేశంలో అతిపెద్ద ఓడ నిర్వహణ సదుపాయం కలిగి ఉంది.  ఎ.బి.జి షిప్‌యార్డ్ 20 టన్నుల బరువు కలిగిన ఓడలను తయారు చేయగల సామర్థ్యంతో భారతదేశంలోని అతి పెద్ద ప్రైవేట్ షిప్ నిర్మాణ కంపెనీలలో ఒకటిగా అవతరించింది.<ref>{{Cite web|title=Wikipedia ref|url=https://en.wikipedia.org/wiki/ABG_Shipyard|access-date=2021-06-07}}</ref>\n",
      "రిషి అగర్వాల్ (ఛైర్మన్), రామ్ స్వరూప్ నక్రా (మేనేజింగ్ డైరెక్టర్), డిపి గుప్తా (వైస్ ప్రెసిడెంట్), సుబాస్ గంటాయత్ (వైస్ ప్రెసిడెంట్) వంటివారు ఈ సంస్థకు చెందిన ప్రధాన వ్యక్తులు. \n",
      "\n",
      "\n",
      "==ఉత్పత్తులు==\n",
      "\n",
      "ఈ సంస్థ వాణిజ్య నౌకల శ్రేణిని నిర్మిస్తుంది. వీటిలో సెల్ఫ్-లోడింగ్, సెల్ఫ్-డిశ్చార్జింగ్ బల్క్ క్యారియర్లు, కంటైనర్ షిప్లు, ఫ్లోటింగ్ క్రేన్లు, స్ప్లిట్ బార్జ్లు, యాంకర్ హ్యాండ్లింగ్ టగ్లు, డైనమిక్ పొజిషనింగ్ షిప్లు, ఆఫ్షోర్ సప్లై వెసెల్స్, డైవింగ్ సపోర్ట్ వెస్ల్స్ ఉన్నాయి.  ఎ.బి.జి షిప్‌యార్డ్ లిమిటెడ్ భారత నావికాదళం కోసం యుద్ధనౌకలు, అనేక ఇతర నౌకలను నిర్మించడానికి భారత ప్రభుత్వం నుండి అనుమతి పొందింది, ఇది పిపావావ్ షిప్యార్డ్ తర్వాత ఈ అనుమతి పొందిన రెండవ కార్పొరేట్ షిప్యార్డ్. 2004లో, ఇండియన్ కోస్ట్ గార్డ్ కోసం కాలుష్య-నియంత్రణ నౌకలను నిర్మించడానికి కాంట్రాక్ట్ పొందింది. 2009లో, షిప్యార్డ్ కోస్ట్ గార్డ్ కోసం 11 హై-స్పీడ్ వాటర్ జెట్ ప్రొపెల్డ్ ఇంటర్సెప్టర్లను నిర్మించడానికి ఎంపిక చేయబడింది. జూన్ 2011లో,  ఎ.బి.జి షిప్‌యార్డ్ లిమిటెడ్ భారతీయ నావికాదళం కోసం రెండు క్యాడెట్ శిక్షణా నౌకలను నిర్మించడానికి ₹9.7 బిలియన్ల (US$130 మిలియన్) ఒప్పందం పొందింది.\n",
      "\n",
      "==సేవలు==\n",
      "ఈ సంస్థ షిప్ డిజైన్, షిప్ బిల్డింగ్, షిప్ రిపేర్ వంటి సేవలను అందిస్తుంది. \n",
      "    \n",
      "\n",
      "==ఇతర వివరాలు==\n",
      " ఎ.బి.జి షిప్‌యార్డ్ కార్పొరేట్ గుర్తింపు సంఖ్య (CIN) L61200GJ1985PLC007730<ref>{{Cite web|title=Zaubacorp data|url=https://www.zaubacorp.com/|access-date=2021-06-07}}</ref>, దీని నమోదు సంఖ్య 7730. \n",
      "    \n",
      "==మూలాలు==\n",
      "<references />\n",
      "\n",
      "\n"
     ]
    }
   ],
   "source": [
    "from jinja2 import Environment, FileSystemLoader\n",
    "import pickle\n",
    "def get_data(row,data):\n",
    "    web1=str(row[15]).strip()\n",
    "    web2=str(row[6]).strip()\n",
    "    if web1!=\"-\" and web1[0]!=\"h\":\n",
    "        web1=\"https://\"+web1\n",
    "    if web2!=\"-\" and web2[0]!=\"h\":\n",
    "        web2=\"https://\"+web2\n",
    "    intro_data={\n",
    "        \"CIN\":str(row[0]).strip(),\n",
    "        \"company_name\":str(row[1]).strip(),\n",
    "        \"industry\":str(row[2]).strip(),\n",
    "        \"sector\":str(row[3]).strip(),\n",
    "        \"founded\":str(int(row[5])).strip(),\n",
    "        \"key_people\":str(row[8]).strip(),\n",
    "        \"headquarters\":str(row[4]).strip(),\n",
    "        \"status\":str(row[23]).strip(),\n",
    "        \"authorised_capital\":str(row[32]).strip(),\n",
    "        \"paidup_capital\":str(row[33]).strip(),\n",
    "        \"RoC\":str(row[24]).strip(),\n",
    "        \"type\":str(row[7]).strip(),\n",
    "        \"class_of_company\":str(row[28]).strip(),\n",
    "        \"regno\":str(int(row[25])).strip(),\n",
    "        \"wiki_history\":str(row[39]).strip(),\n",
    "        \"wiki_operations\":str(row[43]).strip(),\n",
    "        \"wiki_products\":str(row[40]).strip(),\n",
    "        \"wiki_services\":str(row[41]).strip(),\n",
    "        \"service\":str(row[9]).strip(),\n",
    "        \"product\":str(row[18]).strip(),\n",
    "        \"wiki_awards\":str(row[42]).strip(),\n",
    "        \"logo\":str(row[\"Image\"]).strip(),\n",
    "        \"website\":(web1,web2)\n",
    "    }\n",
    "    data.update(intro_data)\n",
    "    return data\n",
    "files=FileSystemLoader('./')\n",
    "env=Environment(loader=files)\n",
    "temp=env.get_template(\"introduction.j2\")\n",
    "df =pickle.load(open(\"C:/Users/bharg/Downloads/masterwiki.pkl\", 'rb'))\n",
    "for i in range(1):\n",
    "    row=df.iloc[i]\n",
    "    data={}\n",
    "    data=get_data(row,data)\n",
    "    intro_text=temp.render(data)\n",
    "    intro_text=intro_text.replace(\" మరియు\",\",\")\n",
    "    intro_text=intro_text.replace(\"యొక్క\",\"తమ\")\n",
    "    print(intro_text)"
   ]
  }
 ],
 "metadata": {
  "interpreter": {
   "hash": "e28d12b204bcf5f278f2641c09f846c43aa1871504a12d8da3a56db0253592e3"
  },
  "kernelspec": {
   "display_name": "Python 3.10.4 64-bit",
   "language": "python",
   "name": "python3"
  },
  "language_info": {
   "codemirror_mode": {
    "name": "ipython",
    "version": 3
   },
   "file_extension": ".py",
   "mimetype": "text/x-python",
   "name": "python",
   "nbconvert_exporter": "python",
   "pygments_lexer": "ipython3",
   "version": "3.10.4"
  },
  "orig_nbformat": 4
 },
 "nbformat": 4,
 "nbformat_minor": 2
}
